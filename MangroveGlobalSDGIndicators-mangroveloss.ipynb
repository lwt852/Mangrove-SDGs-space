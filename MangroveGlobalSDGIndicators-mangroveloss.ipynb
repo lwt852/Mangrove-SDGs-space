{
 "cells": [
  {
   "cell_type": "code",
   "execution_count": 3,
   "id": "810bdac3",
   "metadata": {},
   "outputs": [
    {
     "name": "stdout",
     "output_type": "stream",
     "text": [
      "The autoreload extension is already loaded. To reload it, use:\n",
      "  %reload_ext autoreload\n"
     ]
    }
   ],
   "source": [
    "%matplotlib inline\n",
    "%load_ext autoreload\n",
    "%autoreload 2\n",
    "%matplotlib inline\n",
    "import mrio\n",
    "import select_consumption as select\n",
    "import combine as combine\n",
    "import visualization as visual\n",
    "import matplotlib.pyplot as plt\n",
    "import pandas as pd\n",
    "import numpy as np\n",
    "import seaborn as sns\n",
    "from string import ascii_letters"
   ]
  },
  {
   "cell_type": "code",
   "execution_count": 60,
   "id": "23752482",
   "metadata": {},
   "outputs": [
    {
     "name": "stdout",
     "output_type": "stream",
     "text": [
      "   country  gold_loss      gmw_loss\n",
      "0      AGO  -0.827921  -1069.958512\n",
      "1      AUS  -9.591199 -71786.077332\n",
      "2      BGD  -9.227993 -18549.921604\n",
      "3      BLZ  -1.499348  -3419.722554\n",
      "4      BEN  -0.000000   -373.635403\n",
      "..     ...        ...           ...\n",
      "66     TTO  -0.531462   -276.232368\n",
      "67     ARE  -0.000014   -654.651477\n",
      "68     USA  -0.194095 -14520.348426\n",
      "69     VEN  -9.651890  -9871.234903\n",
      "70     VNM -25.767483 -17409.835634\n",
      "\n",
      "[71 rows x 3 columns]\n"
     ]
    }
   ],
   "source": [
    "# step1: read two mangrove loss data\n",
    "path=r'C:/Users/lenovo/Documents/GitHub/mangrove SDG space/'\n",
    "\n",
    "gold_file='gcb15275-sup-0002-dataset1' #goldenberg\n",
    "gmw_file='gmw_panel0202' #gmw\n",
    "gold = pd.read_excel(path+gold_file+'.xlsx')\n",
    "gmw = combine.read_data(path,gmw_file,'.csv')\n",
    "\n",
    "##read mangrove loss in 2010-2016\n",
    "gold=gold.iloc[:,[1,9]]\n",
    "\n",
    "gold['gold_loss']=gold['Loss Area 2010-2016 (km2)']*-1\n",
    "del gold['Loss Area 2010-2016 (km2)']\n",
    "# read gmw data for 2016\n",
    "gmw=gmw[gmw['year'] == 2016]\n",
    "gmw=gmw.iloc[:,[4,6]]\n",
    "gold.columns =['country','gold_loss']\n",
    "\n",
    "#print(gmw,gold)\n",
    "mangrove=pd.merge(gold,gmw,on='country',how='inner')\n",
    "print(mangrove)\n",
    "\n"
   ]
  },
  {
   "cell_type": "code",
   "execution_count": 61,
   "id": "326d21ec",
   "metadata": {},
   "outputs": [
    {
     "name": "stdout",
     "output_type": "stream",
     "text": [
      "   country  norm_gold_loss  norm_gmw_loss\n",
      "0      AGO       99.438326      99.532521\n",
      "1      AUS       93.493189      68.414362\n",
      "2      BGD       93.739593      91.840579\n",
      "3      BLZ       98.982820      98.498523\n",
      "4      BEN      100.000000      99.838933\n",
      "..     ...             ...            ...\n",
      "66     TTO       99.639448      99.881795\n",
      "67     ARE       99.999991      99.715274\n",
      "68     USA       99.868323      93.613766\n",
      "69     VEN       93.452015      95.659578\n",
      "70     VNM       82.518959      92.342266\n",
      "\n",
      "[71 rows x 3 columns]\n"
     ]
    }
   ],
   "source": [
    "## Gpanel 0618 data step2: Normalize the data into 0-100 : \n",
    "test=['gold_loss','gmw_loss']\n",
    "df=mangrove\n",
    "#percentile_95 = df['gold_loss'].quantile(0.95)\n",
    "#percentile_05 = df['gold_loss'].quantile(0.05)\n",
    "\n",
    "for i in range(len(test)):\n",
    "    ma=df.max(axis=0)[str(test[i])]\n",
    "    mi=df.min(axis=0)[str(test[i])]\n",
    "    df['norm_'+str(test[i])]=((df[str(test[i])]-mi)*100/(ma-mi))\n",
    "\n",
    "\n",
    "mangrove=df.iloc[:,[0,3,4]]\n",
    "\n",
    "\n",
    "print(mangrove)\n"
   ]
  },
  {
   "cell_type": "code",
   "execution_count": 63,
   "id": "b5d4b345",
   "metadata": {},
   "outputs": [],
   "source": [
    "mangrove.to_csv(path+'loss_2016_71.csv',index=False)"
   ]
  }
 ],
 "metadata": {
  "kernelspec": {
   "display_name": "Python 3 (ipykernel)",
   "language": "python",
   "name": "python3"
  },
  "language_info": {
   "codemirror_mode": {
    "name": "ipython",
    "version": 3
   },
   "file_extension": ".py",
   "mimetype": "text/x-python",
   "name": "python",
   "nbconvert_exporter": "python",
   "pygments_lexer": "ipython3",
   "version": "3.9.12"
  }
 },
 "nbformat": 4,
 "nbformat_minor": 5
}
